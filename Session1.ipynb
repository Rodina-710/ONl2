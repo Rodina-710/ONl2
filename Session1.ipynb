{
 "cells": [
  {
   "cell_type": "code",
   "execution_count": 1,
   "id": "b0a9cd63-523c-45f1-bcc0-94ec228373c8",
   "metadata": {},
   "outputs": [
    {
     "name": "stdout",
     "output_type": "stream",
     "text": [
      "Python 3.12.7\n"
     ]
    }
   ],
   "source": [
    "! python --version"
   ]
  },
  {
   "cell_type": "code",
   "execution_count": 3,
   "id": "3fcb4ecf-67bd-433c-8171-6e75db1a467a",
   "metadata": {},
   "outputs": [
    {
     "name": "stdout",
     "output_type": "stream",
     "text": [
      "15\n"
     ]
    }
   ],
   "source": [
    "print (5*3)"
   ]
  },
  {
   "cell_type": "markdown",
   "id": "c135b951-473a-475e-845e-2fe84a39065b",
   "metadata": {},
   "source": [
    "The Result of multi is 15 "
   ]
  },
  {
   "cell_type": "markdown",
   "id": "d386a416-2e43-4d4e-a046-9a11808a5a79",
   "metadata": {},
   "source": [
    "# **Welcome DEPI Round 2**\n",
    "## Online Gruop\n",
    "**IBM Data Science**\n",
    "\n",
    "By Rodina Hamza🚀\n",
    "\n",
    "- Week 1\n",
    "  - Week 2✌️🏃‍➡️"
   ]
  }
 ],
 "metadata": {
  "kernelspec": {
   "display_name": "Python 3 (ipykernel)",
   "language": "python",
   "name": "python3"
  },
  "language_info": {
   "codemirror_mode": {
    "name": "ipython",
    "version": 3
   },
   "file_extension": ".py",
   "mimetype": "text/x-python",
   "name": "python",
   "nbconvert_exporter": "python",
   "pygments_lexer": "ipython3",
   "version": "3.12.7"
  }
 },
 "nbformat": 4,
 "nbformat_minor": 5
}
